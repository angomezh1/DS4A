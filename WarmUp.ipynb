{
  "nbformat": 4,
  "nbformat_minor": 0,
  "metadata": {
    "kernelspec": {
      "display_name": "Python 3",
      "language": "python",
      "name": "python3"
    },
    "language_info": {
      "codemirror_mode": {
        "name": "ipython",
        "version": 3
      },
      "file_extension": ".py",
      "mimetype": "text/x-python",
      "name": "python",
      "nbconvert_exporter": "python",
      "pygments_lexer": "ipython3",
      "version": "3.7.4"
    },
    "colab": {
      "name": "WarmUp.ipynb",
      "provenance": [],
      "collapsed_sections": [],
      "include_colab_link": true
    }
  },
  "cells": [
    {
      "cell_type": "markdown",
      "metadata": {
        "id": "view-in-github",
        "colab_type": "text"
      },
      "source": [
        "<a href=\"https://colab.research.google.com/github/angomezh1/DS4A/blob/master/WarmUp.ipynb\" target=\"_parent\"><img src=\"https://colab.research.google.com/assets/colab-badge.svg\" alt=\"Open In Colab\"/></a>"
      ]
    },
    {
      "cell_type": "markdown",
      "metadata": {
        "id": "fKfAYNq5wXOY",
        "colab_type": "text"
      },
      "source": [
        "# Warm Up Python\n",
        "\n",
        "Para un proyecto de ML es importante realizar una análisis previo de los datos con el fin de alistarlos para la fase de modelamiento.\n",
        "\n",
        "## Objetivo:\n",
        "El objetivo de este taller es aprender códigos básicos que te permitiran abordar en tus proyectos personales la fase de preprocesamiento y exploración de los datos."
      ]
    },
    {
      "cell_type": "markdown",
      "metadata": {
        "id": "a6T8SjczwXOZ",
        "colab_type": "text"
      },
      "source": [
        "## Exploración de Datos\n",
        "Para esta fase inicial conocer algunas funciones que nos provee pandas para facilitarnos la vida son fundamentales.  Dentro de esta fase se desea identificar el dataset que tipo de datos maneja, si tenemos nulos en nuestro conjunto de datos, entre otros.\n",
        "\n",
        "Estas son algunas funciones que nos sirven para esta fase:\n",
        "\n",
        "```python\n",
        "df.head()\n",
        "df.tail()\n",
        "df.info()\n",
        "df.shape\n",
        "df.columns\n",
        "df.describe()\n",
        "df.value_counts()\n",
        "df.unique()\n",
        "df.nunique()\n",
        "```\n",
        "\n",
        "Trabajemos con el famoso conjunto de datos del [titanic](https://www.kaggle.com/c/titanic/data).\n",
        "\n",
        "- PassengerId -- A numerical id assigned to each passenger.\n",
        "- Survived -- Whether the passenger survived (1), or didn't (0).\n",
        "- Pclass -- The class the passenger was in.\n",
        "- Name -- the name of the passenger.\n",
        "- Sex -- The gender of the passenger -- male or female.\n",
        "- Age -- The age of the passenger.  Fractional.\n",
        "- SibSp -- The number of siblings and spouses the passenger had on board.\n",
        "- Parch -- The number of parents and children the passenger had on board.\n",
        "- Ticket -- The ticket number of the passenger.\n",
        "- Fare -- How much the passenger paid for the ticket.\n",
        "- Cabin -- Which cabin the passenger was in.\n",
        "- Embarked -- Where the passenger boarded the Titanic."
      ]
    },
    {
      "cell_type": "code",
      "metadata": {
        "id": "zTGVdZgzwiOf",
        "colab_type": "code",
        "colab": {}
      },
      "source": [
        "from google.colab import drive \n",
        "drive.mount('/content/gdrive')"
      ],
      "execution_count": 0,
      "outputs": []
    },
    {
      "cell_type": "code",
      "metadata": {
        "id": "AGT0V0lkwXOa",
        "colab_type": "code",
        "colab": {}
      },
      "source": [
        "# Importando librerias\n",
        "import pandas as pd\n",
        "# Cargamos el archivo\n",
        "titanic = pd.read_csv(\"/content/gdrive/Python/Datasets/train.csv\")"
      ],
      "execution_count": 0,
      "outputs": []
    },
    {
      "cell_type": "code",
      "metadata": {
        "id": "0wS7IOxZ3tRE",
        "colab_type": "code",
        "colab": {}
      },
      "source": [
        "type(titanic)"
      ],
      "execution_count": 0,
      "outputs": []
    },
    {
      "cell_type": "code",
      "metadata": {
        "id": "4pBhRys7wXOd",
        "colab_type": "code",
        "colab": {}
      },
      "source": [
        "# Visualiza las primeras 2 filas del titanic\n",
        "titanic.head(2)"
      ],
      "execution_count": 0,
      "outputs": []
    },
    {
      "cell_type": "code",
      "metadata": {
        "id": "Q8aE2ArfwXOf",
        "colab_type": "code",
        "colab": {}
      },
      "source": [
        "# Visualiza las ultimas 2 filas del titanic\n",
        "titanic.tail(2)"
      ],
      "execution_count": 0,
      "outputs": []
    },
    {
      "cell_type": "code",
      "metadata": {
        "id": "8OoLQnC2wXOi",
        "colab_type": "code",
        "colab": {}
      },
      "source": [
        "# Conocer cuantas filas y columnas tiene nuestro dataset\n",
        "titanic.shape"
      ],
      "execution_count": 0,
      "outputs": []
    },
    {
      "cell_type": "code",
      "metadata": {
        "id": "-wYw9tGTwXOk",
        "colab_type": "code",
        "colab": {}
      },
      "source": [
        "# Tipos de datos que tiene nuestro dataset y que cantidad de nulos tiene\n",
        "titanic.info()"
      ],
      "execution_count": 0,
      "outputs": []
    },
    {
      "cell_type": "code",
      "metadata": {
        "id": "kzufEPcTwXOm",
        "colab_type": "code",
        "colab": {}
      },
      "source": [
        "# Otra manera de visualizar los nulos por columna\n",
        "titanic.isnull().sum()"
      ],
      "execution_count": 0,
      "outputs": []
    },
    {
      "cell_type": "code",
      "metadata": {
        "id": "TT_WDvwvwXOo",
        "colab_type": "code",
        "colab": {}
      },
      "source": [
        "# Otra manera de conocer los tipos de datos\n",
        "titanic.dtypes"
      ],
      "execution_count": 0,
      "outputs": []
    },
    {
      "cell_type": "code",
      "metadata": {
        "id": "xmnWo30zwXOr",
        "colab_type": "code",
        "colab": {}
      },
      "source": [
        "# Resumen de las columnas numericas\n",
        "titanic.describe()"
      ],
      "execution_count": 0,
      "outputs": []
    },
    {
      "cell_type": "code",
      "metadata": {
        "id": "AcEWb9I-wXOt",
        "colab_type": "code",
        "colab": {}
      },
      "source": [
        "# Resumen de las columnas categoricas\n",
        "titanic.describe(include = ['O'])"
      ],
      "execution_count": 0,
      "outputs": []
    },
    {
      "cell_type": "code",
      "metadata": {
        "id": "SOL4OlEBwXOv",
        "colab_type": "code",
        "colab": {}
      },
      "source": [
        "# Valores unicos por columna sin tener en cuenta nulos\n",
        "titanic.nunique()"
      ],
      "execution_count": 0,
      "outputs": []
    },
    {
      "cell_type": "code",
      "metadata": {
        "id": "vSZirHH-wXOx",
        "colab_type": "code",
        "colab": {}
      },
      "source": [
        "# Valores unicos por columna teniendo en cuenta nulos\n",
        "titanic.nunique(dropna=False)"
      ],
      "execution_count": 0,
      "outputs": []
    },
    {
      "cell_type": "code",
      "metadata": {
        "id": "XZ4ySfSRwXO0",
        "colab_type": "code",
        "colab": {}
      },
      "source": [
        "# Conteo de valores por columna de no nulos\n",
        "titanic.count()"
      ],
      "execution_count": 0,
      "outputs": []
    },
    {
      "cell_type": "code",
      "metadata": {
        "id": "RtECcmzpwXO2",
        "colab_type": "code",
        "colab": {}
      },
      "source": [
        "# Valor mas frecuente en la serie\n",
        "titanic['Embarked'].mode()"
      ],
      "execution_count": 0,
      "outputs": []
    },
    {
      "cell_type": "code",
      "metadata": {
        "id": "19ivC4xpwXO4",
        "colab_type": "code",
        "colab": {}
      },
      "source": [
        "# Valores unicos de la columna 'Embarked'\n",
        "titanic['Embarked'].unique()"
      ],
      "execution_count": 0,
      "outputs": []
    },
    {
      "cell_type": "code",
      "metadata": {
        "scrolled": true,
        "id": "cKMrV_pOwXO6",
        "colab_type": "code",
        "colab": {}
      },
      "source": [
        "# Cuantos registros tenemos por categoria de la columna 'Embarked' sin nulos\n",
        "titanic['Embarked'].value_counts()"
      ],
      "execution_count": 0,
      "outputs": []
    },
    {
      "cell_type": "code",
      "metadata": {
        "id": "hFWdudRcwXO8",
        "colab_type": "code",
        "colab": {}
      },
      "source": [
        "# Cuantos registros tenemos por categoria de la columna 'Embarked' con nulos\n",
        "titanic['Embarked'].value_counts(dropna=False)"
      ],
      "execution_count": 0,
      "outputs": []
    },
    {
      "cell_type": "code",
      "metadata": {
        "id": "6A-YEGLuwXO-",
        "colab_type": "code",
        "colab": {}
      },
      "source": [
        "# Cuales son los nombres de las columnas del dataset\n",
        "titanic.columns"
      ],
      "execution_count": 0,
      "outputs": []
    },
    {
      "cell_type": "code",
      "metadata": {
        "id": "UC7KMSwuDKNJ",
        "colab_type": "code",
        "colab": {}
      },
      "source": [
        "titanic.columns = ['Passenger_Id', 'Survived', 'Pclass', 'Name', 'Sex', 'Age', 'SibSp',\n",
        "       'Parch', 'Ticket', 'Fare', 'Cabin', 'Embarked']\n",
        "titanic = titanic.rename(columns={'Passenger_Id':'PassengerId'})\n",
        "titanic.head()"
      ],
      "execution_count": 0,
      "outputs": []
    },
    {
      "cell_type": "code",
      "metadata": {
        "id": "BP0XOe_6DcQb",
        "colab_type": "code",
        "colab": {}
      },
      "source": [
        "?titanic.rename"
      ],
      "execution_count": 0,
      "outputs": []
    },
    {
      "cell_type": "markdown",
      "metadata": {
        "id": "fPIusLVswXPB",
        "colab_type": "text"
      },
      "source": [
        "Ahora que tenemos una idea de la información que tenemos, vamos a empezar a transformarla para poder tener nuestros datos listos para la fase de visualización, de esta fase podemos concluir que PassengerId y Name que tienen 891 registros unicos no son columnas que nos sirvan para un analisis posterior, la columna Ticket tambien son 681 valores unicos esta tampoco nos sirve, y por ultimo la columna Cabin tiene el 77% de los datos nulos, lo que hace que tampoco nos sirva para más adelante."
      ]
    },
    {
      "cell_type": "code",
      "metadata": {
        "id": "SAeZx3acPF-f",
        "colab_type": "code",
        "colab": {}
      },
      "source": [
        "titanic[(titanic['Embarked']=='S') & (titanic['Sex']=='female')][['Name','Age']].head()"
      ],
      "execution_count": 0,
      "outputs": []
    },
    {
      "cell_type": "markdown",
      "metadata": {
        "id": "B-ESj74vwXPB",
        "colab_type": "text"
      },
      "source": [
        "### Practica\n",
        "\n",
        "Con las columnas Genero ('Sex'), Edad ('Age') y el valor del tiquete ('Fare'), responde las siguientes preguntas:\n",
        "\n",
        "- ¿Cuantos Hombres y Mujeres tenemos en nuestro dataset?\n",
        "- ¿Cual es la edad mas frecuente en nuestro conjunto de datos?\n",
        "- ¿Cual es la edad mas frecuente en las mujeres?\n",
        "- ¿Cual es la edad mas frecuente en los hombres?\n",
        "- ¿Cual es el precio del tiquete mas común?\n",
        "- ¿El precio del tiquete mas común es el mismo para hombres y para mujeres?"
      ]
    },
    {
      "cell_type": "code",
      "metadata": {
        "id": "XtnI_WIWwXPC",
        "colab_type": "code",
        "colab": {}
      },
      "source": [
        "#¿Cuantos Hombres y Mujeres tenemos en nuestro dataset?\n",
        "#Tu código"
      ],
      "execution_count": 0,
      "outputs": []
    },
    {
      "cell_type": "markdown",
      "metadata": {
        "id": "AJnllASrwXPE",
        "colab_type": "text"
      },
      "source": [
        "**Deberia de tener el siguiente resultado:**\n",
        "\n",
        "```\n",
        "male      577\n",
        "female    314\n",
        "Name: Sex, dtype: int64\n",
        "```"
      ]
    },
    {
      "cell_type": "markdown",
      "metadata": {
        "id": "SndTBabJwXPF",
        "colab_type": "text"
      },
      "source": [
        "Doble-clic __Aqui__ para la solución.\n",
        "\n",
        "<!-- Your answer is below:\n",
        "titanic['Sex'].value_counts()\n",
        "-->"
      ]
    },
    {
      "cell_type": "code",
      "metadata": {
        "id": "-9Gd439zwXPG",
        "colab_type": "code",
        "colab": {}
      },
      "source": [
        "#¿Cual es la edad mas frecuente en nuestro conjunto de datos?\n",
        "#Tu código"
      ],
      "execution_count": 0,
      "outputs": []
    },
    {
      "cell_type": "markdown",
      "metadata": {
        "id": "TlIl0eAewXPK",
        "colab_type": "text"
      },
      "source": [
        "**Deberia de tener el siguiente resultado:**\n",
        "\n",
        "```\n",
        "0    24.0\n",
        "dtype: float64\n",
        "```"
      ]
    },
    {
      "cell_type": "markdown",
      "metadata": {
        "id": "q23GHhcqwXPL",
        "colab_type": "text"
      },
      "source": [
        "Doble-clic __Aqui__ para la solución.\n",
        "\n",
        "<!-- Your answer is below:\n",
        "titanic['Age'].mode()\n",
        "-->"
      ]
    },
    {
      "cell_type": "code",
      "metadata": {
        "id": "CqBPkrVSwXPM",
        "colab_type": "code",
        "colab": {}
      },
      "source": [
        "#¿Cual es la edad mas frecuente en las mujeres?\n",
        "#Tu código"
      ],
      "execution_count": 0,
      "outputs": []
    },
    {
      "cell_type": "markdown",
      "metadata": {
        "id": "BDKK1ifTwXPQ",
        "colab_type": "text"
      },
      "source": [
        "**Deberia de tener el siguiente resultado:**\n",
        "\n",
        "```\n",
        "0    24.0\n",
        "dtype: float64\n",
        "```"
      ]
    },
    {
      "cell_type": "markdown",
      "metadata": {
        "id": "4DLuxTQVwXPR",
        "colab_type": "text"
      },
      "source": [
        "Doble-clic __Aqui__ para la solución.\n",
        "\n",
        "<!-- Your answer is below:\n",
        "titanic[titanic['Sex']=='female']['Age'].mode()\n",
        "-->"
      ]
    },
    {
      "cell_type": "code",
      "metadata": {
        "id": "P_n71xADwXPR",
        "colab_type": "code",
        "colab": {}
      },
      "source": [
        "#¿Cual es la edad mas frecuente en los hombres?\n",
        "#Tu código"
      ],
      "execution_count": 0,
      "outputs": []
    },
    {
      "cell_type": "markdown",
      "metadata": {
        "id": "NnOC9AfkwXPT",
        "colab_type": "text"
      },
      "source": [
        "**Deberia de tener el siguiente resultado:**\n",
        "\n",
        "```\n",
        "0    19.0\n",
        "1    25.0\n",
        "2    28.0\n",
        "dtype: float64\n",
        "```"
      ]
    },
    {
      "cell_type": "markdown",
      "metadata": {
        "id": "gvE7wSV0wXPU",
        "colab_type": "text"
      },
      "source": [
        "Doble-clic __Aqui__ para la solución.\n",
        "\n",
        "<!-- Your answer is below:\n",
        "titanic[titanic['Sex']=='male']['Age'].mode()\n",
        "-->"
      ]
    },
    {
      "cell_type": "code",
      "metadata": {
        "id": "L-kjHF7HwXPW",
        "colab_type": "code",
        "colab": {}
      },
      "source": [
        "#¿Cual es el precio del tiquete mas común?\n",
        "#Tu código"
      ],
      "execution_count": 0,
      "outputs": []
    },
    {
      "cell_type": "markdown",
      "metadata": {
        "id": "E6G0-_bTwXPb",
        "colab_type": "text"
      },
      "source": [
        "**Deberia de tener el siguiente resultado:**\n",
        "\n",
        "```\n",
        "0    8.05\n",
        "dtype: float64\n",
        "```"
      ]
    },
    {
      "cell_type": "markdown",
      "metadata": {
        "id": "DS2DsRyYwXPc",
        "colab_type": "text"
      },
      "source": [
        "Doble-clic __Aqui__ para la solución.\n",
        "\n",
        "<!-- Your answer is below:\n",
        "titanic['Fare'].mode()\n",
        "-->"
      ]
    },
    {
      "cell_type": "code",
      "metadata": {
        "id": "owKd9aoZwXPd",
        "colab_type": "code",
        "colab": {}
      },
      "source": [
        "#¿El precio del tiquete más común es el mismo para hombres y para mujeres?\n",
        "#Tu código"
      ],
      "execution_count": 0,
      "outputs": []
    },
    {
      "cell_type": "markdown",
      "metadata": {
        "id": "epzAPVB0wXPf",
        "colab_type": "text"
      },
      "source": [
        "**Deberia de tener el siguiente resultado:**\n",
        "\n",
        "```\n",
        "Precio común del tiquete para mujeres :7.75\n",
        "Precio común del tiquete para hombres :8.05\n",
        "```"
      ]
    },
    {
      "cell_type": "markdown",
      "metadata": {
        "id": "zwMunGc5wXPg",
        "colab_type": "text"
      },
      "source": [
        "Doble-clic __Aqui__ para la solución.\n",
        "\n",
        "<!-- Your answer is below:\n",
        "print('Precio común del tiquete para mujeres :' + str(titanic[titanic['Sex']=='female']['Fare'].mode()[0]))\n",
        "print('Precio común del tiquete para hombres :' + str(titanic[titanic['Sex']=='male']['Fare'].mode()[0]))\n",
        "-->"
      ]
    },
    {
      "cell_type": "markdown",
      "metadata": {
        "id": "gn4OORL7wXPh",
        "colab_type": "text"
      },
      "source": [
        "## Preprocesamiento:\n",
        "Para esta fase tener un buen conocimiento de Pandas será muy útil, adicional estructurar esta fase de preprocesamiento con la ayuda de funciones, nos permitirá tener codigo que podremos reutilizar en otros proyectos.\n",
        "\n",
        "Dentro de las actividades que se podrían hacer en preprocesamiento se encuentras las siguientes:\n",
        "\n",
        "**Borrar columnas**\n",
        "\n",
        "**Enriching (or Transforming)** un conjunto de datos, agregando columnas recién calculadas en los índices.\n",
        "\n",
        "**Filtering** seleccionando un subconjunto de las filas o columnas de un conjunto de datos de acuerdo con algún criterio.\n",
        "\n",
        "**Indexing** agregando índices a un conjunto de datos.\n",
        "\n",
        "**Aggregating**\n",
        "\n",
        "**Sorting** ordenar las filas de un conjunto de datos según algún criterio\n",
        "\n",
        "**Merging** fusionar los conjuntos de datos de alguna manera. Esto incluye: concatenación (horizontal o vertical) y también unión.\n",
        "\n",
        "**Pivoting**: esto incluye la transposición y la realización de otras operaciones para que los datos que originalmente tenían un diseño vertical se distribuyan horizontalmente (aumentando el número de columnas) o viceversa (aumentando el número de filas). \n",
        "\n",
        "Entre otras."
      ]
    },
    {
      "cell_type": "code",
      "metadata": {
        "id": "MqeBreYyJxJK",
        "colab_type": "code",
        "colab": {}
      },
      "source": [
        "titanic.columns"
      ],
      "execution_count": 0,
      "outputs": []
    },
    {
      "cell_type": "code",
      "metadata": {
        "id": "wl_OV7gVwXPh",
        "colab_type": "code",
        "colab": {}
      },
      "source": [
        "# Eliminar columnas PassengerId, Name, Cabin, la columna ticket no la vamos a eliminar todavia.\n",
        "titanic.drop(['PassengerId','Name','Cabin'],axis=1, inplace=True)\n",
        "titanic.shape"
      ],
      "execution_count": 0,
      "outputs": []
    },
    {
      "cell_type": "code",
      "metadata": {
        "id": "OzLvOC03wXPj",
        "colab_type": "code",
        "colab": {}
      },
      "source": [
        "# Validar nulos nuevamente\n",
        "titanic.isnull().sum()"
      ],
      "execution_count": 0,
      "outputs": []
    },
    {
      "cell_type": "code",
      "metadata": {
        "id": "0uE3gsIZwXPn",
        "colab_type": "code",
        "colab": {}
      },
      "source": [
        "# En los primeros 10 registros tenemos un campo de edad nulo, vamos a tenerlo como referencia para lo que vamos a hacer\n",
        "titanic.head(10)"
      ],
      "execution_count": 0,
      "outputs": []
    },
    {
      "cell_type": "markdown",
      "metadata": {
        "id": "tsC8IhYPwXPq",
        "colab_type": "text"
      },
      "source": [
        "### Nulos\n",
        "Dependiendo del problema el tratamiento de los nulos se puede manejar de diferentes maneras:\n",
        "\n",
        "* Conservalos\n",
        "* Eliminarlos\n",
        "* Dejar un valor fijo que los diferencie\n",
        "* Reemplazarlos con un estadistico (media, mediana, moda) Cual usar si tenemos outliers?\n",
        "* Forward o backward fill"
      ]
    },
    {
      "cell_type": "code",
      "metadata": {
        "id": "h7QGmCKpwXPq",
        "colab_type": "code",
        "colab": {}
      },
      "source": [
        "# Para eliminarlos usamos\n",
        "titanic.dropna(inplace=True)\n",
        "titanic.shape"
      ],
      "execution_count": 0,
      "outputs": []
    },
    {
      "cell_type": "code",
      "metadata": {
        "id": "qZxjRl3dwXPs",
        "colab_type": "code",
        "colab": {}
      },
      "source": [
        "# Validar nulos nuevamente\n",
        "titanic.isnull().sum()"
      ],
      "execution_count": 0,
      "outputs": []
    },
    {
      "cell_type": "code",
      "metadata": {
        "scrolled": true,
        "id": "AIj9JhIhwXPv",
        "colab_type": "code",
        "colab": {}
      },
      "source": [
        "# En los primeros 10 registros tenemos un campo de edad nulo, vamos a tenerlo como referencia para lo que vamos a hacer\n",
        "titanic.head(10)"
      ],
      "execution_count": 0,
      "outputs": []
    },
    {
      "cell_type": "code",
      "metadata": {
        "id": "ievYbxlP5qfU",
        "colab_type": "code",
        "colab": {}
      },
      "source": [
        "titanic.info()"
      ],
      "execution_count": 0,
      "outputs": []
    },
    {
      "cell_type": "code",
      "metadata": {
        "id": "ZVrH-YdMLigH",
        "colab_type": "code",
        "colab": {}
      },
      "source": [
        "titanic.reset_index(drop=True,inplace=True)\n",
        "titanic.head(10)"
      ],
      "execution_count": 0,
      "outputs": []
    },
    {
      "cell_type": "code",
      "metadata": {
        "id": "Kpxy60ATL8rI",
        "colab_type": "code",
        "colab": {}
      },
      "source": [
        "# Dejar un valor fijo que los diferencie\n",
        "titanic = pd.read_csv(\"/content/gdrive/My Drive/ML_COURSES_CEC/1. Ciencia de Datos con Python/Estudiantes/Cohorte 2020-01 (Mar-Jue) Bancolombia/Datasets/train.csv\")\n",
        "titanic.drop(['PassengerId','Name','Cabin'],axis=1, inplace=True)"
      ],
      "execution_count": 0,
      "outputs": []
    },
    {
      "cell_type": "code",
      "metadata": {
        "id": "kZB7wWM26IUn",
        "colab_type": "code",
        "colab": {}
      },
      "source": [
        "titanic.shape"
      ],
      "execution_count": 0,
      "outputs": []
    },
    {
      "cell_type": "code",
      "metadata": {
        "id": "nA8c7-d4wXPx",
        "colab_type": "code",
        "colab": {}
      },
      "source": [
        "titanic.fillna(-1).head(10)"
      ],
      "execution_count": 0,
      "outputs": []
    },
    {
      "cell_type": "code",
      "metadata": {
        "scrolled": true,
        "id": "SSn5Tx13wXPz",
        "colab_type": "code",
        "colab": {}
      },
      "source": [
        "titanic['Age'].fillna(titanic['Age'].mean()).head(10)"
      ],
      "execution_count": 0,
      "outputs": []
    },
    {
      "cell_type": "code",
      "metadata": {
        "scrolled": true,
        "id": "UoaYdlapwXP2",
        "colab_type": "code",
        "colab": {}
      },
      "source": [
        "titanic['Age'].fillna(titanic['Age'].median()).head(10)"
      ],
      "execution_count": 0,
      "outputs": []
    },
    {
      "cell_type": "code",
      "metadata": {
        "scrolled": true,
        "id": "gXFho5zywXP4",
        "colab_type": "code",
        "colab": {}
      },
      "source": [
        "titanic['Age'].fillna(titanic['Age'].mode()[0]).head(10)"
      ],
      "execution_count": 0,
      "outputs": []
    },
    {
      "cell_type": "code",
      "metadata": {
        "scrolled": true,
        "id": "Ii1gOw9SwXP6",
        "colab_type": "code",
        "colab": {}
      },
      "source": [
        "titanic['Age'].fillna(method='backfill').head(10)"
      ],
      "execution_count": 0,
      "outputs": []
    },
    {
      "cell_type": "code",
      "metadata": {
        "id": "Mh2so39dwXP8",
        "colab_type": "code",
        "colab": {}
      },
      "source": [
        "titanic['Age'].fillna(method='ffill').head(10)"
      ],
      "execution_count": 0,
      "outputs": []
    },
    {
      "cell_type": "markdown",
      "metadata": {
        "id": "ZWbIBSzLwXP_",
        "colab_type": "text"
      },
      "source": [
        "Para nuestro ejercicio tomaremos la decisión de borrar los nulos."
      ]
    },
    {
      "cell_type": "code",
      "metadata": {
        "id": "QRVxq6sWwXQA",
        "colab_type": "code",
        "colab": {}
      },
      "source": [
        "# Para eliminarlos usamos\n",
        "titanic.dropna(inplace=True)\n",
        "titanic.shape"
      ],
      "execution_count": 0,
      "outputs": []
    },
    {
      "cell_type": "markdown",
      "metadata": {
        "id": "ZqtDRbqtwXQB",
        "colab_type": "text"
      },
      "source": [
        "### Columnas\n",
        "Para ser practicos, normalmente modificamos los nombres de las columnas con el fin de quitar espacios en blanco, caracteres especiales, dejar los nombres en minuscula así que a continuacion realizaremos ese cambio."
      ]
    },
    {
      "cell_type": "code",
      "metadata": {
        "id": "gOX3Z3EBwXQC",
        "colab_type": "code",
        "colab": {}
      },
      "source": [
        "# Cambiar nombre de columnas a minusculas\n",
        "titanic.rename(columns = lambda col: col.lower(),inplace=True)"
      ],
      "execution_count": 0,
      "outputs": []
    },
    {
      "cell_type": "code",
      "metadata": {
        "id": "82wNI7vgwXQF",
        "colab_type": "code",
        "colab": {}
      },
      "source": [
        "# Validar dataset\n",
        "titanic.info()"
      ],
      "execution_count": 0,
      "outputs": []
    },
    {
      "cell_type": "code",
      "metadata": {
        "id": "5uHldoFANnV8",
        "colab_type": "code",
        "colab": {}
      },
      "source": [
        "titanic.shape"
      ],
      "execution_count": 0,
      "outputs": []
    },
    {
      "cell_type": "markdown",
      "metadata": {
        "id": "PJaQbC8GwXQH",
        "colab_type": "text"
      },
      "source": [
        "### Indices"
      ]
    },
    {
      "cell_type": "code",
      "metadata": {
        "id": "YvFinM3HwXQI",
        "colab_type": "code",
        "colab": {}
      },
      "source": [
        "# Luego de eliminar los nulos, se debe de resetear los indices, como puedes ver aparecen de 0 a 890 todavia \n",
        "# a persar de que tenemos 712 filas.\n",
        "titanic.reset_index(drop=True,inplace=True)\n",
        "titanic.info()"
      ],
      "execution_count": 0,
      "outputs": []
    },
    {
      "cell_type": "markdown",
      "metadata": {
        "id": "mU_eZjVZwXQL",
        "colab_type": "text"
      },
      "source": [
        "### Agrupación"
      ]
    },
    {
      "cell_type": "code",
      "metadata": {
        "id": "Ga5gmgAGOfY1",
        "colab_type": "code",
        "colab": {}
      },
      "source": [
        "titanic.groupby(['sex','survived']).size()"
      ],
      "execution_count": 0,
      "outputs": []
    },
    {
      "cell_type": "code",
      "metadata": {
        "id": "fvVXeAo4PCqb",
        "colab_type": "code",
        "colab": {}
      },
      "source": [
        "titanic.groupby(['sex','survived']).agg({'fare':'count','age':'mean'}).reset_index()"
      ],
      "execution_count": 0,
      "outputs": []
    },
    {
      "cell_type": "code",
      "metadata": {
        "id": "CNMm8BKLwXQM",
        "colab_type": "code",
        "colab": {}
      },
      "source": [
        "# Validar los tickets duplicados\n",
        "df_tickets = titanic.groupby('ticket').size().reset_index().rename(columns={0:'count'})\n",
        "df_tickets.sort_values(by='count',ascending=False)"
      ],
      "execution_count": 0,
      "outputs": []
    },
    {
      "cell_type": "code",
      "metadata": {
        "id": "qvWVh4dISLHj",
        "colab_type": "code",
        "colab": {}
      },
      "source": [
        "titanic[titanic['ticket']=='347082']"
      ],
      "execution_count": 0,
      "outputs": []
    },
    {
      "cell_type": "code",
      "metadata": {
        "id": "6cdzfoQKSkwo",
        "colab_type": "code",
        "colab": {}
      },
      "source": [
        "titanic[titanic['ticket']=='110413']"
      ],
      "execution_count": 0,
      "outputs": []
    },
    {
      "cell_type": "markdown",
      "metadata": {
        "id": "bT1PGIwvwXQO",
        "colab_type": "text"
      },
      "source": [
        "### Ordenando"
      ]
    },
    {
      "cell_type": "code",
      "metadata": {
        "id": "4i3LawCVwXQP",
        "colab_type": "code",
        "colab": {}
      },
      "source": [
        "# Ordenar los cantidad de registros por tickets\n",
        "df_tickets.sort_values(by=[\"count\"],ascending=False,inplace=True)\n",
        "df_tickets.head()"
      ],
      "execution_count": 0,
      "outputs": []
    },
    {
      "cell_type": "code",
      "metadata": {
        "id": "9HfT4Vu2wXQR",
        "colab_type": "code",
        "colab": {}
      },
      "source": [
        "# Validemos un tiquete\n",
        "titanic[titanic['ticket']=='347082']"
      ],
      "execution_count": 0,
      "outputs": []
    },
    {
      "cell_type": "markdown",
      "metadata": {
        "id": "h-rC1uXRwXQU",
        "colab_type": "text"
      },
      "source": [
        "### Uniendo datasets\n",
        "Uno de las tareas que se realizan en preprocesamiento es enriquecer la información, crearemos una nueva columna llamada 'family' en esta realizaremos una marcación de 1 si el viaje fue familiar o viajaron solos."
      ]
    },
    {
      "cell_type": "markdown",
      "metadata": {
        "id": "9QYT_aHGwXQV",
        "colab_type": "text"
      },
      "source": [
        "#### Merge and join\n",
        "\n",
        "Ambas funciones permiten que los datos de diferentes dataframes se combinen en uno solo de acuerdo con una regla de \"cruce\" o \"búsqueda\".\n",
        "\n",
        "Aunque tanto `merge` como` join` hacen cosas similares, la forma en que lo hacen es diferente.\n",
        "\n",
        "La función `merge` es la función predeterminada de pandas para unir datos. Básicamente es contraparte de *pandas de la unión de SQL*, y requiere la especificación de qué columnas de ambos dataframes se compararán. A Merge no le importa en absoluto los índices definidos en ellos.\n",
        "\n",
        "Por otro lado, la función `join` de Panda es más conveniente (incluso utiliza merge internamente), unir es básicamente hacer una fusión aprovechando los índices de ambos marcos de datos.\n",
        "\n",
        "La siguiente figura resume los diferentes 4 tipos de combinaciones: _inner, outer, left and right_.\n",
        "\n",
        "![MERGE](http://www.datasciencemadesimple.com/wp-content/uploads/2017/09/join-or-merge-in-python-pandas-1.png)\n",
        "\n",
        "La función merge también está disponible como método en la clase `DataFrame`.\n",
        "La sintaxis básica es:\n",
        "\n",
        "```\n",
        "new_joined_df = df.merge (another_df, left_on = \"col_in_df\", right_on = \"col_in_another_df\",\n",
        "                          how=\"inner\"|\"left\"|\"right\"|\"outer\")\n",
        "```\n",
        "\n",
        "El primer argumento (`another_df`), así como` left_on` y `right_on` son argumentos obligatorios.\n",
        "`left_on` especifica un nombre de columna en el dataframe `df` cuyos valores deben coincidir con\n",
        "los de la columna `another_df` 'especificados en `right_on`.\n",
        "\n",
        "El argumento `how` es opcional y por defecto es `inner`."
      ]
    },
    {
      "cell_type": "code",
      "metadata": {
        "id": "2ZfYwhtBwXQX",
        "colab_type": "code",
        "colab": {}
      },
      "source": [
        "# Primero adicionaremos la columna 'count' de df_tickets a nuestro dataset titanic\n",
        "titanic = titanic.merge(df_tickets,left_on='ticket',right_on='ticket',how='left')\n",
        "titanic.shape"
      ],
      "execution_count": 0,
      "outputs": []
    },
    {
      "cell_type": "code",
      "metadata": {
        "scrolled": true,
        "id": "QN1lJNGAwXQZ",
        "colab_type": "code",
        "colab": {}
      },
      "source": [
        "titanic.head()"
      ],
      "execution_count": 0,
      "outputs": []
    },
    {
      "cell_type": "markdown",
      "metadata": {
        "id": "gt0MSgDKwXQb",
        "colab_type": "text"
      },
      "source": [
        "### Enriquecer dataset"
      ]
    },
    {
      "cell_type": "code",
      "metadata": {
        "id": "ECbkX4bywXQc",
        "colab_type": "code",
        "colab": {}
      },
      "source": [
        "titanic['family'] = [1 if count>1 else 0 for count in titanic['count']]"
      ],
      "execution_count": 0,
      "outputs": []
    },
    {
      "cell_type": "code",
      "metadata": {
        "scrolled": true,
        "id": "PR0SLsd-wXQf",
        "colab_type": "code",
        "colab": {}
      },
      "source": [
        "titanic.head()"
      ],
      "execution_count": 0,
      "outputs": []
    },
    {
      "cell_type": "markdown",
      "metadata": {
        "id": "tOyNuDlVwXQh",
        "colab_type": "text"
      },
      "source": [
        "### Limpliando Cadenas"
      ]
    },
    {
      "cell_type": "code",
      "metadata": {
        "id": "auVMrNG9wXQh",
        "colab_type": "code",
        "colab": {}
      },
      "source": [
        "# Recuerdan las funciones? vamos a crear una funcion que nos servira para limpiar texto, en este caso el campo tickets\n",
        "def limpiar_caracteres(cadena):\n",
        "    import re\n",
        "    patron = '[^A-Za-z0-9]+'\n",
        "    return re.sub(patron, '', cadena)"
      ],
      "execution_count": 0,
      "outputs": []
    },
    {
      "cell_type": "code",
      "metadata": {
        "scrolled": true,
        "id": "rQ_rEv5iwXQi",
        "colab_type": "code",
        "colab": {}
      },
      "source": [
        "titanic['ticket'] = titanic['ticket'].apply(limpiar_caracteres)\n",
        "titanic.head()"
      ],
      "execution_count": 0,
      "outputs": []
    },
    {
      "cell_type": "code",
      "metadata": {
        "scrolled": true,
        "id": "cxs1P1FMwXQl",
        "colab_type": "code",
        "colab": {}
      },
      "source": [
        "# Para continuar eliminaremos la columna ticket\n",
        "titanic.drop('ticket',axis=1,inplace=True)\n",
        "titanic.head()"
      ],
      "execution_count": 0,
      "outputs": []
    },
    {
      "cell_type": "markdown",
      "metadata": {
        "id": "f0I3lXM1wXQo",
        "colab_type": "text"
      },
      "source": [
        "### Codificando variables categoricas\n",
        "\n",
        "En ocasiones se requiere volver columnares nuestros datos categoricos, para esto usamos tambien un metodo de pandas llamado get_dummies."
      ]
    },
    {
      "cell_type": "code",
      "metadata": {
        "id": "WyySVmnYwXQo",
        "colab_type": "code",
        "colab": {}
      },
      "source": [
        "titanic['sexDummies'] = titanic['sex']\n",
        "titanic = pd.get_dummies(titanic, columns = ['sexDummies'], prefix = ['D'])\n",
        "titanic.head()"
      ],
      "execution_count": 0,
      "outputs": []
    },
    {
      "cell_type": "markdown",
      "metadata": {
        "id": "v6GpG91DwXQq",
        "colab_type": "text"
      },
      "source": [
        "Que hemos aprendido:\n",
        "\n",
        "- Tratar Nulos\n",
        "- Transformar columnas\n",
        "- Enriquecer información en nuestro dataset adicionando columnas calculadas\n",
        "- Hacer agregaciones\n",
        "- Unir datasets.\n",
        "- Limpiar texto con la ayuda de Regex\n",
        "- Codificando variables categoricas"
      ]
    },
    {
      "cell_type": "markdown",
      "metadata": {
        "id": "cIk_RstQwXQr",
        "colab_type": "text"
      },
      "source": [
        "### Practica\n",
        "\n",
        "- Agrupar el conjunto de datos por genero ('sex') y calcular el promedio de la edad ('age').\n",
        "- Agrupar el conjunto de datos por la columna familia ('family') y contar la cantidad de registros por grupo.\n",
        "- De las familias cuantos se sobrevivieron y cuantos no."
      ]
    },
    {
      "cell_type": "code",
      "metadata": {
        "id": "jtxHb5UBwXQr",
        "colab_type": "code",
        "colab": {}
      },
      "source": [
        "# Agrupar el conjunto de datos por genero ('sex') y calcular el promedio de la edad ('age')\n",
        "# Tu código"
      ],
      "execution_count": 0,
      "outputs": []
    },
    {
      "cell_type": "markdown",
      "metadata": {
        "id": "dXdUWk-vwXQs",
        "colab_type": "text"
      },
      "source": [
        " **Deberia de tener el siguiente resultado:**\n",
        "\n",
        "| |sex| age | \n",
        "|-----|-----|-----|\n",
        "|0|\tfemale|\t27.915709|\n",
        "|1|male|30.726645|"
      ]
    },
    {
      "cell_type": "markdown",
      "metadata": {
        "id": "sfLkk-8gwXQt",
        "colab_type": "text"
      },
      "source": [
        "Doble-clic __Aqui__ para la solución.\n",
        "\n",
        "<!-- Your answer is below:\n",
        "titanic.groupby('sex').agg({'age':'mean'}).reset_index()\n",
        "-->"
      ]
    },
    {
      "cell_type": "code",
      "metadata": {
        "id": "n7Y5MBmbwXQu",
        "colab_type": "code",
        "colab": {}
      },
      "source": [
        "# Agrupar el conjunto de datos por la columna familia ('family') y contar la cantidad de registros por grupo.\n",
        "# Tu código"
      ],
      "execution_count": 0,
      "outputs": []
    },
    {
      "cell_type": "markdown",
      "metadata": {
        "id": "WYRojvAgwXQ6",
        "colab_type": "text"
      },
      "source": [
        " **Deberia de tener el siguiente resultado:**\n",
        "\n",
        "| |family| count | \n",
        "|-----|-----|-----|\n",
        "|0|\t0|\t547|\n",
        "|1|1|344|"
      ]
    },
    {
      "cell_type": "markdown",
      "metadata": {
        "id": "eJF4NN-twXQ6",
        "colab_type": "text"
      },
      "source": [
        "Doble-clic __Aqui__ para la solución.\n",
        "\n",
        "<!-- Your answer is below:\n",
        "titanic.groupby(['family']).size().reset_index().rename(columns={0:'count'})\n",
        "-->"
      ]
    },
    {
      "cell_type": "code",
      "metadata": {
        "id": "i-FHI-6-wXQ7",
        "colab_type": "code",
        "colab": {}
      },
      "source": [
        "# De las familias cuantos se sobrevivieron y cuantos no.\n",
        "# Tu codigo\n",
        "titanic.groupby(['family','survived']).size()"
      ],
      "execution_count": 0,
      "outputs": []
    },
    {
      "cell_type": "markdown",
      "metadata": {
        "id": "i08w2yvgwXQ9",
        "colab_type": "text"
      },
      "source": [
        " **Deberia de tener el siguiente resultado:**\n",
        "\n",
        "| |family| survived | count |\n",
        "|-----|-----|-----|-----|\n",
        "|0|\t0|\t0| 384|\n",
        "|1|\t0|\t1| 163|\n",
        "|2|\t1|\t0| 165|\n",
        "|3|\t1|\t1| 179|"
      ]
    },
    {
      "cell_type": "markdown",
      "metadata": {
        "id": "_20HTE-TwXQ_",
        "colab_type": "text"
      },
      "source": [
        "Doble-clic __Aqui__ para la solución.\n",
        "\n",
        "<!-- Your answer is below:\n",
        "titanic.groupby(['family','survived']).size().reset_index().rename(columns={0:'count'})\n",
        "-->"
      ]
    },
    {
      "cell_type": "markdown",
      "metadata": {
        "id": "0eV0M2sPwXQ_",
        "colab_type": "text"
      },
      "source": [
        "## Visualización:\n",
        "Para apoyar el análisis descriptivo de los datos usamos la exploración de estos a través de gráficos que nos permiten conocer más la información que vamos a utilizar para nuestros modelos, para esta fase es muy util tener conocimiento de las librerias de Python que nos permiter generar estas visualizaciones como Matplotlib y Seaborn, Pandas tambien tiene unos métodos de visualización. "
      ]
    },
    {
      "cell_type": "code",
      "metadata": {
        "scrolled": false,
        "id": "h7R0JcX2wXRA",
        "colab_type": "code",
        "colab": {}
      },
      "source": [
        "import matplotlib.pyplot as plt\n",
        "import seaborn as sns\n",
        "#%matplotlib inline\n",
        "\n",
        "titanic.head()"
      ],
      "execution_count": 0,
      "outputs": []
    },
    {
      "cell_type": "markdown",
      "metadata": {
        "id": "fwNV5qZ_wXRH",
        "colab_type": "text"
      },
      "source": [
        "### Lineas"
      ]
    },
    {
      "cell_type": "code",
      "metadata": {
        "scrolled": false,
        "id": "Gktg0uo_wXRH",
        "colab_type": "code",
        "colab": {}
      },
      "source": [
        "# Empecemos con un grafico sencillo, al no colocar X se asume que x es cada uno de los registros.\n",
        "plt.figure(figsize=(6,3))\n",
        "plt.plot(titanic['age'])\n",
        "plt.title('Titanic Graficando la Edad')\n",
        "plt.xlabel('id')\n",
        "plt.ylabel('age')\n",
        "plt.show()"
      ],
      "execution_count": 0,
      "outputs": []
    },
    {
      "cell_type": "code",
      "metadata": {
        "id": "I7s2quXxGAG2",
        "colab_type": "code",
        "colab": {}
      },
      "source": [
        "?plt"
      ],
      "execution_count": 0,
      "outputs": []
    },
    {
      "cell_type": "markdown",
      "metadata": {
        "id": "oj5cWRVAwXRJ",
        "colab_type": "text"
      },
      "source": [
        "### Histogramas"
      ]
    },
    {
      "cell_type": "code",
      "metadata": {
        "id": "xyIYlbBawXRJ",
        "colab_type": "code",
        "colab": {}
      },
      "source": [
        "plt.figure(figsize=(6,4))\n",
        "sns.distplot(titanic['age'])\n",
        "plt.title('Titanic Histograma de la Edad')\n",
        "plt.show()"
      ],
      "execution_count": 0,
      "outputs": []
    },
    {
      "cell_type": "code",
      "metadata": {
        "id": "HxT0sWGbwXRM",
        "colab_type": "code",
        "colab": {}
      },
      "source": [
        "# Si solo queremos la funcion de densidad\n",
        "plt.figure(figsize=(6,3))\n",
        "sns.kdeplot(titanic['age'],shade=True)\n",
        "plt.title('Titanic Densidad de la Edad')\n",
        "plt.xlabel('age');"
      ],
      "execution_count": 0,
      "outputs": []
    },
    {
      "cell_type": "code",
      "metadata": {
        "id": "O7tNCnhtwXRP",
        "colab_type": "code",
        "colab": {}
      },
      "source": [
        "g = sns.FacetGrid(titanic, col=\"survived\", height=3)\n",
        "g.map(sns.kdeplot, 'age', shade=True)\n",
        "g.despine(left=True,bottom=True);"
      ],
      "execution_count": 0,
      "outputs": []
    },
    {
      "cell_type": "code",
      "metadata": {
        "id": "Ig744fYbwXRR",
        "colab_type": "code",
        "colab": {}
      },
      "source": [
        "g = sns.FacetGrid(titanic, col='survived', row='pclass', hue='sex', height=3)\n",
        "g.map(sns.kdeplot, 'age', shade=True).add_legend()\n",
        "g.despine(left=True, bottom=True)\n",
        "plt.show()"
      ],
      "execution_count": 0,
      "outputs": []
    },
    {
      "cell_type": "markdown",
      "metadata": {
        "id": "amYbZfdMwXRT",
        "colab_type": "text"
      },
      "source": [
        "### Boxplot"
      ]
    },
    {
      "cell_type": "code",
      "metadata": {
        "id": "lVweoYOiwXRU",
        "colab_type": "code",
        "colab": {}
      },
      "source": [
        "plt.figure(figsize=(6,3))\n",
        "sns.boxplot(titanic['age'])#,orient='v')\n",
        "plt.title('Titanic Boxplot de la Edad')\n",
        "plt.show()"
      ],
      "execution_count": 0,
      "outputs": []
    },
    {
      "cell_type": "code",
      "metadata": {
        "id": "1dUlNYRCwXRX",
        "colab_type": "code",
        "colab": {}
      },
      "source": [
        "plt.figure(figsize=(6,4))\n",
        "sns.boxplot(x='survived',y='age',data=titanic)\n",
        "plt.title('Titanic Boxplot de los sobrevivientes y la edad')\n",
        "plt.show()"
      ],
      "execution_count": 0,
      "outputs": []
    },
    {
      "cell_type": "code",
      "metadata": {
        "id": "hsdQZlapwXRa",
        "colab_type": "code",
        "colab": {}
      },
      "source": [
        "plt.figure(figsize=(10,4))\n",
        "sns.boxplot(x='sex',y='age',hue='survived',data=titanic)\n",
        "plt.title('Titanic Boxplot de los sobrevivientes, el genero y la edad')\n",
        "plt.show()"
      ],
      "execution_count": 0,
      "outputs": []
    },
    {
      "cell_type": "markdown",
      "metadata": {
        "id": "2VbK-8YSwXRc",
        "colab_type": "text"
      },
      "source": [
        "### Barras"
      ]
    },
    {
      "cell_type": "code",
      "metadata": {
        "scrolled": false,
        "id": "9L1XLdETwXRc",
        "colab_type": "code",
        "colab": {}
      },
      "source": [
        "plt.figure(figsize=(6, 4))\n",
        "sns.countplot('survived',data=titanic)\n",
        "plt.show()"
      ],
      "execution_count": 0,
      "outputs": []
    },
    {
      "cell_type": "code",
      "metadata": {
        "id": "bMILWyeUwXRe",
        "colab_type": "code",
        "colab": {}
      },
      "source": [
        "plt.figure(figsize=(6, 4))\n",
        "sns.barplot(y='age',x='pclass',data=titanic)\n",
        "plt.show()"
      ],
      "execution_count": 0,
      "outputs": []
    },
    {
      "cell_type": "code",
      "metadata": {
        "id": "C2WgyBTtwXRh",
        "colab_type": "code",
        "colab": {}
      },
      "source": [
        "plt.figure(figsize=(6, 4))\n",
        "sns.barplot(y='survived',x='sex',hue='pclass',data=titanic)\n",
        "plt.show()"
      ],
      "execution_count": 0,
      "outputs": []
    },
    {
      "cell_type": "code",
      "metadata": {
        "scrolled": false,
        "id": "_zC9Ywt8wXRi",
        "colab_type": "code",
        "colab": {}
      },
      "source": [
        "plt.figure(figsize=(6, 4))\n",
        "sns.barplot(y='pclass',x='sex',hue='family',data=titanic)\n",
        "plt.show()"
      ],
      "execution_count": 0,
      "outputs": []
    },
    {
      "cell_type": "markdown",
      "metadata": {
        "id": "Kp76yk1AwXRj",
        "colab_type": "text"
      },
      "source": [
        "# Heatmap"
      ]
    },
    {
      "cell_type": "code",
      "metadata": {
        "id": "ObdDdDrQXiIc",
        "colab_type": "code",
        "colab": {}
      },
      "source": [
        "titanic.drop(['survived','family','D_female','D_male','count'],axis=1).corr()"
      ],
      "execution_count": 0,
      "outputs": []
    },
    {
      "cell_type": "code",
      "metadata": {
        "id": "FlLA7GojwXRk",
        "colab_type": "code",
        "colab": {}
      },
      "source": [
        "plt.figure()\n",
        "sns.heatmap(titanic.drop(['survived','family','D_female','D_male','count'],axis=1).corr(),annot=True, linewidth=0.5,fmt='.1f')\n",
        "plt.show()"
      ],
      "execution_count": 0,
      "outputs": []
    },
    {
      "cell_type": "markdown",
      "metadata": {
        "id": "KHkA2bnkwXRl",
        "colab_type": "text"
      },
      "source": [
        "### Scatter Plot"
      ]
    },
    {
      "cell_type": "code",
      "metadata": {
        "id": "mFoqH4VkwXRo",
        "colab_type": "code",
        "colab": {}
      },
      "source": [
        "plt.figure()\n",
        "sns.scatterplot(x='age', y='fare', hue='sex', style='survived', data=titanic)\n",
        "plt.show()"
      ],
      "execution_count": 0,
      "outputs": []
    },
    {
      "cell_type": "code",
      "metadata": {
        "id": "A-pVDQVFwXRp",
        "colab_type": "code",
        "colab": {}
      },
      "source": [
        "plt.figure()\n",
        "sns.scatterplot(x='pclass', y='age', hue='sex', style='survived',size='count', data=titanic)\n",
        "plt.show()"
      ],
      "execution_count": 0,
      "outputs": []
    },
    {
      "cell_type": "code",
      "metadata": {
        "id": "9BxLoXqiwXRr",
        "colab_type": "code",
        "colab": {}
      },
      "source": [
        "plt.figure()\n",
        "sns.scatterplot(x='age', y='fare',data=titanic)\n",
        "plt.show()"
      ],
      "execution_count": 0,
      "outputs": []
    },
    {
      "cell_type": "code",
      "metadata": {
        "id": "tTiS-XudVMHb",
        "colab_type": "code",
        "colab": {}
      },
      "source": [
        "type(titanic.columns)"
      ],
      "execution_count": 0,
      "outputs": []
    },
    {
      "cell_type": "code",
      "metadata": {
        "id": "loxiCabxVNET",
        "colab_type": "code",
        "colab": {}
      },
      "source": [
        "for  col in titanic.columns:\n",
        "  print(col)"
      ],
      "execution_count": 0,
      "outputs": []
    },
    {
      "cell_type": "code",
      "metadata": {
        "id": "zzFMwzAiVX9C",
        "colab_type": "code",
        "colab": {}
      },
      "source": [
        "import plotly.express as px\n",
        "fig = px.scatter(titanic,x='age',y='fare', color='sex',size='count')\n",
        "fig.show()"
      ],
      "execution_count": 0,
      "outputs": []
    },
    {
      "cell_type": "code",
      "metadata": {
        "id": "w073bGrRNCjT",
        "colab_type": "code",
        "colab": {}
      },
      "source": [
        ""
      ],
      "execution_count": 0,
      "outputs": []
    }
  ]
}